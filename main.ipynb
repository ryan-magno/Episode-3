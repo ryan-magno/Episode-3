{
 "cells": [
  {
   "cell_type": "code",
   "execution_count": 3,
   "metadata": {},
   "outputs": [
    {
     "name": "stdout",
     "output_type": "stream",
     "text": [
      "FTP Details found!\n",
      "Login to FTP successful!\n"
     ]
    }
   ],
   "source": [
    "from ftplib import FTP_TLS\n",
    "\n",
    "# FTP Details\n",
    "try: \n",
    "    ftphost = \"172.20.252.108\"  # FTP host address\n",
    "    ftpuser = \"ftpuser\"  # FTP username\n",
    "    ftppass = \"password\"  # FTP password\n",
    "    ftpport = 21  # FTP port number\n",
    "except:\n",
    "    print(\"Error: FTP Details not found\")\n",
    "else:\n",
    "    print(\"FTP Details found!\")\n",
    "\n",
    "# Login to FTP\n",
    "try:\n",
    "    ftp = FTP_TLS()\n",
    "    ftp.connect(ftphost, ftpport)\n",
    "    ftp.login(ftpuser, ftppass)\n",
    "    ftp.prot_p()\n",
    "except:\n",
    "    print(\"Error: Unable to login to FTP\")\n",
    "else:\n",
    "    print(\"Login to FTP successful!\")\n",
    "\n",
    "# # Create sample file\n",
    "# with open(\"sample.txt\", \"w\") as fp:\n",
    "#     fp.write(\"Hello World!\")\n",
    "#     fp.write(\"Another line\")\n",
    "#     fp.write(\"Bye!\")\n",
    "\n",
    "# # Upload to FTP\n",
    "# with open(\"sample.txt\", \"rb\") as fp:\n",
    "#     ftp.storbinary(\"STOR sample.txt\", fp)\n",
    "\n",
    "# # Download from FTP\n",
    "# with open(\"sample.txt\", \"wb\") as fp:\n",
    "#     ftp.retrbinary(\"RETR sample.txt\", fp.write)\n",
    "\n",
    "# # Delete file from FTP\n",
    "# ftp.delete(\"sample.txt\")\n",
    "\n",
    "# # If this line gets printed, everything worked\n",
    "# print(\"Upload, download and delete successful!\")"
   ]
  },
  {
   "cell_type": "code",
   "execution_count": 4,
   "metadata": {},
   "outputs": [
    {
     "data": {
      "text/plain": [
       "'/home/ftpuser'"
      ]
     },
     "execution_count": 4,
     "metadata": {},
     "output_type": "execute_result"
    }
   ],
   "source": [
    "ftp.pwd()"
   ]
  },
  {
   "cell_type": "code",
   "execution_count": null,
   "metadata": {},
   "outputs": [],
   "source": []
  }
 ],
 "metadata": {
  "kernelspec": {
   "display_name": "Python 3",
   "language": "python",
   "name": "python3"
  },
  "language_info": {
   "codemirror_mode": {
    "name": "ipython",
    "version": 3
   },
   "file_extension": ".py",
   "mimetype": "text/x-python",
   "name": "python",
   "nbconvert_exporter": "python",
   "pygments_lexer": "ipython3",
   "version": "3.12.2"
  }
 },
 "nbformat": 4,
 "nbformat_minor": 2
}
